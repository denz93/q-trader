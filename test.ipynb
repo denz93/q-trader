{
 "cells": [
  {
   "cell_type": "code",
   "execution_count": 32,
   "id": "78f7ec50",
   "metadata": {},
   "outputs": [],
   "source": [
    "import pandas as pd\n",
    "import numpy as np\n",
    "import functions as fn "
   ]
  },
  {
   "cell_type": "code",
   "execution_count": 33,
   "id": "a3132cfc",
   "metadata": {},
   "outputs": [
    {
     "data": {
      "text/html": [
       "<div>\n",
       "<style scoped>\n",
       "    .dataframe tbody tr th:only-of-type {\n",
       "        vertical-align: middle;\n",
       "    }\n",
       "\n",
       "    .dataframe tbody tr th {\n",
       "        vertical-align: top;\n",
       "    }\n",
       "\n",
       "    .dataframe thead th {\n",
       "        text-align: right;\n",
       "    }\n",
       "</style>\n",
       "<table border=\"1\" class=\"dataframe\">\n",
       "  <thead>\n",
       "    <tr style=\"text-align: right;\">\n",
       "      <th></th>\n",
       "      <th>Open</th>\n",
       "      <th>High</th>\n",
       "      <th>Low</th>\n",
       "      <th>Close</th>\n",
       "      <th>Volume</th>\n",
       "    </tr>\n",
       "  </thead>\n",
       "  <tbody>\n",
       "    <tr>\n",
       "      <th>0</th>\n",
       "      <td>1320.280029</td>\n",
       "      <td>1320.280029</td>\n",
       "      <td>1276.050049</td>\n",
       "      <td>1283.270020</td>\n",
       "      <td>1129400000</td>\n",
       "    </tr>\n",
       "    <tr>\n",
       "      <th>1</th>\n",
       "      <td>1283.270020</td>\n",
       "      <td>1347.760010</td>\n",
       "      <td>1274.619995</td>\n",
       "      <td>1347.560059</td>\n",
       "      <td>1880700000</td>\n",
       "    </tr>\n",
       "    <tr>\n",
       "      <th>2</th>\n",
       "      <td>1347.560059</td>\n",
       "      <td>1350.239990</td>\n",
       "      <td>1329.140015</td>\n",
       "      <td>1333.339966</td>\n",
       "      <td>2131000000</td>\n",
       "    </tr>\n",
       "    <tr>\n",
       "      <th>3</th>\n",
       "      <td>1333.339966</td>\n",
       "      <td>1334.770020</td>\n",
       "      <td>1294.949951</td>\n",
       "      <td>1298.349976</td>\n",
       "      <td>1430800000</td>\n",
       "    </tr>\n",
       "    <tr>\n",
       "      <th>4</th>\n",
       "      <td>1298.349976</td>\n",
       "      <td>1298.349976</td>\n",
       "      <td>1276.290039</td>\n",
       "      <td>1295.859985</td>\n",
       "      <td>1115500000</td>\n",
       "    </tr>\n",
       "  </tbody>\n",
       "</table>\n",
       "</div>"
      ],
      "text/plain": [
       "          Open         High          Low        Close      Volume\n",
       "0  1320.280029  1320.280029  1276.050049  1283.270020  1129400000\n",
       "1  1283.270020  1347.760010  1274.619995  1347.560059  1880700000\n",
       "2  1347.560059  1350.239990  1329.140015  1333.339966  2131000000\n",
       "3  1333.339966  1334.770020  1294.949951  1298.349976  1430800000\n",
       "4  1298.349976  1298.349976  1276.290039  1295.859985  1115500000"
      ]
     },
     "execution_count": 33,
     "metadata": {},
     "output_type": "execute_result"
    }
   ],
   "source": [
    "data = fn.getStockDataVec(\"^GSPC\")\n",
    "data.head()"
   ]
  },
  {
   "cell_type": "code",
   "execution_count": null,
   "id": "987dda45",
   "metadata": {},
   "outputs": [
    {
     "name": "stdout",
     "output_type": "stream",
     "text": [
      "['2001-01-03' 1283.27002 1347.76001 1274.619995 1347.560059 1880700000]\n"
     ]
    }
   ],
   "source": [
    "s = fn.getSta"
   ]
  },
  {
   "cell_type": "code",
   "execution_count": null,
   "id": "f06d6e67",
   "metadata": {},
   "outputs": [
    {
     "name": "stdout",
     "output_type": "stream",
     "text": [
      "[1, 2]\n",
      "[5, 6]\n"
     ]
    }
   ],
   "source": [
    "a = np.array([[1,2], [5, 6], [10, 20]]).tolist()\n",
    "*b, c = a\n",
    "\n",
    "print(b)\n",
    "print(c)"
   ]
  },
  {
   "cell_type": "code",
   "execution_count": 37,
   "id": "cbdae500",
   "metadata": {},
   "outputs": [
    {
     "name": "stdout",
     "output_type": "stream",
     "text": [
      "2025-04-11 13:18:19.317291: I tensorflow/core/platform/cpu_feature_guard.cc:210] This TensorFlow binary is optimized to use available CPU instructions in performance-critical operations.\n",
      "To enable the following instructions: AVX2 AVX512F AVX512_VNNI FMA, in other operations, rebuild TensorFlow with the appropriate compiler flags.\n",
      "/Users/nbach/Projects/q-trader/.venv/lib/python3.12/site-packages/keras/src/layers/core/dense.py:87: UserWarning: Do not pass an `input_shape`/`input_dim` argument to a layer. When using Sequential models, prefer using an `Input(shape)` object as the first layer in the model instead.\n",
      "  super().__init__(activity_regularizer=activity_regularizer, **kwargs)\n",
      "Episode 0/1\n",
      "Traceback (most recent call last):\n",
      "  File \"/Users/nbach/Projects/q-trader/train.py\", line 44, in <module>\n",
      "    agent.expReplay(batch_size)\n",
      "  File \"/Users/nbach/Projects/q-trader/agent/agent.py\", line 53, in expReplay\n",
      "    target = reward + self.gamma * np.amax(self.model.predict(next_state)[0])\n",
      "                                           ^^^^^^^^^^^^^^^^^^^^^^^^^^^^^^\n",
      "  File \"/Users/nbach/Projects/q-trader/.venv/lib/python3.12/site-packages/keras/src/utils/traceback_utils.py\", line 122, in error_handler\n",
      "    raise e.with_traceback(filtered_tb) from None\n",
      "  File \"/Users/nbach/Projects/q-trader/.venv/lib/python3.12/site-packages/keras/src/trainers/data_adapters/__init__.py\", line 125, in get_data_adapter\n",
      "    raise ValueError(f\"Unrecognized data type: x={x} (of type {type(x)})\")\n",
      "ValueError: Unrecognized data type: x=[array([ 0.        ,  0.        ,  0.        ,  0.        , 20.84495236]), array([ 0.        ,  0.        ,  0.        ,  0.        , 20.84495236]), array([ 0.        ,  0.        ,  0.        ,  0.        , 20.84495236]), array([ 0.        ,  0.        ,  0.        ,  0.        , 20.84495236]), array([ 0.        ,  0.        ,  0.        ,  0.        , 20.84495236]), array([ 0.        ,  0.        ,  0.        ,  0.        , 20.84495236]), array([ 0.        ,  0.        ,  0.        ,  0.        , 20.84495236]), array([ 0.        ,  0.        ,  0.        ,  0.        , 20.84495236]), array([ 0.        ,  0.        ,  0.        ,  0.        , 20.84495236]), array([ 0.        ,  0.        ,  0.        ,  0.        , 20.84495236]), array([ 0.        ,  0.        ,  0.        ,  0.        , 20.84495236]), array([ 0.        ,  0.        ,  0.        ,  0.        , 20.84495236]), [0.0, 0.0, 0.0, 0.0, 20.844952355203013], [-0.02803193882136657, 0.020813751928682664, -0.0011206880177784683, 0.05009860590368969, 21.354909884912306], [0.05009860590368969, 0.0018400753706886352, 0.04277354836254544, -0.010552474381403365, 21.47985719006289], [0, 0, 0, 0, 0]] (of type <class 'list'>)\n"
     ]
    }
   ],
   "source": [
    "!python train.py ^GSPC 15 1"
   ]
  },
  {
   "cell_type": "code",
   "execution_count": null,
   "id": "6cb7c572",
   "metadata": {},
   "outputs": [],
   "source": []
  }
 ],
 "metadata": {
  "kernelspec": {
   "display_name": ".venv",
   "language": "python",
   "name": "python3"
  },
  "language_info": {
   "codemirror_mode": {
    "name": "ipython",
    "version": 3
   },
   "file_extension": ".py",
   "mimetype": "text/x-python",
   "name": "python",
   "nbconvert_exporter": "python",
   "pygments_lexer": "ipython3",
   "version": "3.12.2"
  }
 },
 "nbformat": 4,
 "nbformat_minor": 5
}
